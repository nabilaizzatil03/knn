{
  "nbformat": 4,
  "nbformat_minor": 0,
  "metadata": {
    "colab": {
      "provenance": []
    },
    "kernelspec": {
      "name": "python3",
      "display_name": "Python 3"
    },
    "language_info": {
      "name": "python"
    }
  },
  "cells": [
    {
      "cell_type": "code",
      "execution_count": 12,
      "metadata": {
        "colab": {
          "base_uri": "https://localhost:8080/",
          "height": 1000
        },
        "id": "jo4hVMZBXg_6",
        "outputId": "623e67fe-7ad0-4eba-e54f-b90499a873b0"
      },
      "outputs": [
        {
          "output_type": "stream",
          "name": "stdout",
          "text": [
            "Data sample:\n",
            "        0   1   2   3   4   5   6   7   8   9   10\n",
            "0  1000025   5   1   1   1   2   1   3   1   1   2\n",
            "1  1002945   5   4   4   5   7  10   3   2   1   2\n",
            "2  1015425   3   1   1   1   2   2   3   1   1   2\n",
            "3  1016277   6   8   8   1   3   4   3   7   1   2\n",
            "4  1017023   4   1   1   3   2   1   3   1   1   2\n",
            "\n",
            "DataFrame Info:\n",
            "<class 'pandas.core.frame.DataFrame'>\n",
            "RangeIndex: 699 entries, 0 to 698\n",
            "Data columns (total 11 columns):\n",
            " #   Column  Non-Null Count  Dtype \n",
            "---  ------  --------------  ----- \n",
            " 0   0       699 non-null    int64 \n",
            " 1   1       699 non-null    int64 \n",
            " 2   2       699 non-null    int64 \n",
            " 3   3       699 non-null    int64 \n",
            " 4   4       699 non-null    int64 \n",
            " 5   5       699 non-null    int64 \n",
            " 6   6       699 non-null    object\n",
            " 7   7       699 non-null    int64 \n",
            " 8   8       699 non-null    int64 \n",
            " 9   9       699 non-null    int64 \n",
            " 10  10      699 non-null    int64 \n",
            "dtypes: int64(10), object(1)\n",
            "memory usage: 60.2+ KB\n",
            "None\n",
            "\n",
            "Distribusi Kelas:\n",
            "Diagnosis\n",
            "0    683\n",
            "Name: count, dtype: int64\n"
          ]
        },
        {
          "output_type": "display_data",
          "data": {
            "text/plain": [
              "<Figure size 640x480 with 1 Axes>"
            ],
            "image/png": "[encoded data removed]"
          },
          "metadata": {}
        },
        {
          "output_type": "stream",
          "name": "stdout",
          "text": [
            "Matriks Kebingungan:\n",
            "[[137]]\n",
            "\n",
            "Laporan Klasifikasi:\n",
            "              precision    recall  f1-score   support\n",
            "\n",
            "           0       1.00      1.00      1.00       137\n",
            "\n",
            "    accuracy                           1.00       137\n",
            "   macro avg       1.00      1.00      1.00       137\n",
            "weighted avg       1.00      1.00      1.00       137\n",
            "\n"
          ]
        },
        {
          "output_type": "stream",
          "name": "stderr",
          "text": [
            "/usr/local/lib/python3.10/dist-packages/sklearn/metrics/_classification.py:409: UserWarning: A single label was found in 'y_true' and 'y_pred'. For the confusion matrix to have the correct shape, use the 'labels' parameter to pass all known labels.\n",
            "  warnings.warn(\n"
          ]
        }
      ],
      "source": [
        "# knn_large.py\n",
        "\n",
        "import pandas as pd\n",
        "import numpy as np\n",
        "from sklearn.model_selection import train_test_split\n",
        "from sklearn.neighbors import KNeighborsClassifier\n",
        "from sklearn.metrics import classification_report, confusion_matrix\n",
        "from sklearn.preprocessing import StandardScaler\n",
        "import matplotlib.pyplot as plt\n",
        "\n",
        "# Memuat dataset dari UCI\n",
        "url = \"https://raw.githubusercontent.com/jbrownlee/Datasets/master/breast-cancer-wisconsin.data\"\n",
        "df = pd.read_csv(url, header=None)\n",
        "\n",
        "# Tampilkan beberapa baris pertama dari dataset\n",
        "print(\"Data sample:\")\n",
        "print(df.head())\n",
        "\n",
        "# Tampilkan informasi mengenai DataFrame\n",
        "print(\"\\nDataFrame Info:\")\n",
        "print(df.info())\n",
        "\n",
        "# Mengganti nilai '?' dengan NaN\n",
        "df.replace('?', np.nan, inplace=True)\n",
        "\n",
        "# Menghapus baris dengan nilai NaN\n",
        "df.dropna(inplace=True)\n",
        "\n",
        "# Mengganti nama kolom\n",
        "df.columns = ['ID', 'Diagnosis', 'Radius_mean', 'Texture_mean', 'Perimeter_mean',\n",
        "              'Area_mean', 'Smoothness_mean', 'Compactness_mean', 'Concavity_mean',\n",
        "              'Concave_points_mean', 'Symmetry_mean']\n",
        "\n",
        "# Menghapus kolom ID\n",
        "df.drop(columns=['ID'], inplace=True)\n",
        "\n",
        "# Mengonversi diagnosis menjadi numerik (1: Malignant, 0: Benign)\n",
        "df['Diagnosis'] = df['Diagnosis'].apply(lambda x: 1 if x == 'M' else 0)\n",
        "\n",
        "# Menghitung distribusi kelas\n",
        "print(\"\\nDistribusi Kelas:\")\n",
        "class_counts = df['Diagnosis'].value_counts()\n",
        "print(class_counts)\n",
        "\n",
        "# Memvisualisasikan distribusi kelas\n",
        "class_counts.plot(kind='bar', color=['blue', 'orange'])\n",
        "plt.title('Distribusi Kelas')\n",
        "plt.xlabel('Diagnosis')\n",
        "plt.ylabel('Jumlah')\n",
        "plt.xticks(ticks=[0, 1], labels=['Benign (0)', 'Malignant (1)'], rotation=0)\n",
        "plt.show()\n",
        "\n",
        "# Memisahkan fitur dan label\n",
        "X = df.drop(columns=['Diagnosis'])\n",
        "y = df['Diagnosis']\n",
        "\n",
        "# Mengonversi semua kolom ke tipe float\n",
        "X = X.astype(float)\n",
        "\n",
        "# Membagi dataset menjadi data pelatihan dan pengujian\n",
        "X_train, X_test, y_train, y_test = train_test_split(X, y, test_size=0.2, random_state=42, stratify=y)\n",
        "\n",
        "# Normalisasi data\n",
        "scaler = StandardScaler()\n",
        "X_train = scaler.fit_transform(X_train)\n",
        "X_test = scaler.transform(X_test)\n",
        "\n",
        "# Menginisialisasi model K-NN\n",
        "k = 5  # Anda bisa mengubah nilai k\n",
        "knn = KNeighborsClassifier(n_neighbors=k)\n",
        "\n",
        "# Melatih model\n",
        "knn.fit(X_train, y_train)\n",
        "\n",
        "# Melakukan prediksi\n",
        "y_pred = knn.predict(X_test)\n",
        "\n",
        "# Menampilkan hasil\n",
        "print(\"Matriks Kebingungan:\")\n",
        "print(confusion_matrix(y_test, y_pred))\n",
        "print(\"\\nLaporan Klasifikasi:\")\n",
        "print(classification_report(y_test, y_pred))\n"
      ]
    }
  ]
}